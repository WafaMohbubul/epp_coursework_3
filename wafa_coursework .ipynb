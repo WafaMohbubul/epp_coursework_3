{
 "cells": [
  {
   "cell_type": "markdown",
   "metadata": {
    "collapsed": false
   },
   "source": [
    "# Wafa Mohbubul - 190418551"
   ]
  },
  {
   "cell_type": "code",
   "execution_count": 1,
   "metadata": {
    "collapsed": false
   },
   "outputs": [
    {
     "data": {
      "text/html": [
       "<div>\n",
       "<style scoped>\n",
       "    .dataframe tbody tr th:only-of-type {\n",
       "        vertical-align: middle;\n",
       "    }\n",
       "\n",
       "    .dataframe tbody tr th {\n",
       "        vertical-align: top;\n",
       "    }\n",
       "\n",
       "    .dataframe thead th {\n",
       "        text-align: right;\n",
       "    }\n",
       "</style>\n",
       "<table border=\"1\" class=\"dataframe\">\n",
       "  <thead>\n",
       "    <tr style=\"text-align: right;\">\n",
       "      <th></th>\n",
       "      <th>Event</th>\n",
       "      <th>mu_E</th>\n",
       "      <th>mu_Px</th>\n",
       "      <th>mu_Py</th>\n",
       "      <th>mu_Pz</th>\n",
       "      <th>B1_E</th>\n",
       "      <th>B1_Px</th>\n",
       "      <th>B1_Py</th>\n",
       "      <th>B1_Pz</th>\n",
       "      <th>B2_E</th>\n",
       "      <th>...</th>\n",
       "      <th>J1_Py</th>\n",
       "      <th>J1_Pz</th>\n",
       "      <th>J2_E</th>\n",
       "      <th>J2_Px</th>\n",
       "      <th>J2_Py</th>\n",
       "      <th>J2_Pz</th>\n",
       "      <th>J3_E</th>\n",
       "      <th>J3_Px</th>\n",
       "      <th>J3_Py</th>\n",
       "      <th>J3_Pz</th>\n",
       "    </tr>\n",
       "  </thead>\n",
       "  <tbody>\n",
       "    <tr>\n",
       "      <th>0</th>\n",
       "      <td>0</td>\n",
       "      <td>51268.2</td>\n",
       "      <td>23427.4</td>\n",
       "      <td>-30694.4</td>\n",
       "      <td>33725.70</td>\n",
       "      <td>144539.0</td>\n",
       "      <td>30556.9</td>\n",
       "      <td>-124646.0</td>\n",
       "      <td>66221.10</td>\n",
       "      <td>41345.7</td>\n",
       "      <td>...</td>\n",
       "      <td>83141.7</td>\n",
       "      <td>100690.0</td>\n",
       "      <td>153528.0</td>\n",
       "      <td>24049.1</td>\n",
       "      <td>36265.6</td>\n",
       "      <td>-147189.0</td>\n",
       "      <td>62572.0</td>\n",
       "      <td>-33733.80</td>\n",
       "      <td>-15020.8</td>\n",
       "      <td>-50334.600</td>\n",
       "    </tr>\n",
       "    <tr>\n",
       "      <th>1</th>\n",
       "      <td>8</td>\n",
       "      <td>62607.2</td>\n",
       "      <td>-55928.2</td>\n",
       "      <td>-27403.4</td>\n",
       "      <td>-6382.09</td>\n",
       "      <td>143720.0</td>\n",
       "      <td>-90881.3</td>\n",
       "      <td>80127.7</td>\n",
       "      <td>-76677.30</td>\n",
       "      <td>63423.3</td>\n",
       "      <td>...</td>\n",
       "      <td>44228.2</td>\n",
       "      <td>104774.0</td>\n",
       "      <td>49101.6</td>\n",
       "      <td>37159.0</td>\n",
       "      <td>-12960.1</td>\n",
       "      <td>-28853.1</td>\n",
       "      <td>31804.9</td>\n",
       "      <td>-28743.60</td>\n",
       "      <td>11803.6</td>\n",
       "      <td>-203.991</td>\n",
       "    </tr>\n",
       "    <tr>\n",
       "      <th>2</th>\n",
       "      <td>41</td>\n",
       "      <td>175318.0</td>\n",
       "      <td>110076.0</td>\n",
       "      <td>-128700.0</td>\n",
       "      <td>45341.20</td>\n",
       "      <td>209660.0</td>\n",
       "      <td>-110486.0</td>\n",
       "      <td>118174.0</td>\n",
       "      <td>-132929.00</td>\n",
       "      <td>54280.7</td>\n",
       "      <td>...</td>\n",
       "      <td>35725.8</td>\n",
       "      <td>-14619.2</td>\n",
       "      <td>82184.9</td>\n",
       "      <td>32212.0</td>\n",
       "      <td>13286.3</td>\n",
       "      <td>-73960.8</td>\n",
       "      <td>68410.5</td>\n",
       "      <td>8936.84</td>\n",
       "      <td>32453.5</td>\n",
       "      <td>59377.200</td>\n",
       "    </tr>\n",
       "    <tr>\n",
       "      <th>3</th>\n",
       "      <td>44</td>\n",
       "      <td>125126.0</td>\n",
       "      <td>32677.8</td>\n",
       "      <td>102847.0</td>\n",
       "      <td>63335.10</td>\n",
       "      <td>75826.2</td>\n",
       "      <td>-60117.0</td>\n",
       "      <td>-44410.6</td>\n",
       "      <td>1588.44</td>\n",
       "      <td>78404.3</td>\n",
       "      <td>...</td>\n",
       "      <td>62414.2</td>\n",
       "      <td>-24681.6</td>\n",
       "      <td>85371.5</td>\n",
       "      <td>-40072.9</td>\n",
       "      <td>-22510.0</td>\n",
       "      <td>71706.7</td>\n",
       "      <td>112722.0</td>\n",
       "      <td>19212.20</td>\n",
       "      <td>-19288.7</td>\n",
       "      <td>-109245.000</td>\n",
       "    </tr>\n",
       "    <tr>\n",
       "      <th>4</th>\n",
       "      <td>52</td>\n",
       "      <td>81170.1</td>\n",
       "      <td>45960.6</td>\n",
       "      <td>-38977.6</td>\n",
       "      <td>-54377.80</td>\n",
       "      <td>209614.0</td>\n",
       "      <td>-41145.2</td>\n",
       "      <td>31890.1</td>\n",
       "      <td>-202909.00</td>\n",
       "      <td>126913.0</td>\n",
       "      <td>...</td>\n",
       "      <td>62056.2</td>\n",
       "      <td>-110476.0</td>\n",
       "      <td>168499.0</td>\n",
       "      <td>14308.5</td>\n",
       "      <td>42066.1</td>\n",
       "      <td>-162219.0</td>\n",
       "      <td>55170.7</td>\n",
       "      <td>9476.58</td>\n",
       "      <td>-26691.3</td>\n",
       "      <td>46793.300</td>\n",
       "    </tr>\n",
       "  </tbody>\n",
       "</table>\n",
       "<p>5 rows × 25 columns</p>\n",
       "</div>"
      ],
      "text/plain": [
       "   Event      mu_E     mu_Px     mu_Py     mu_Pz      B1_E     B1_Px  \\\n",
       "0      0   51268.2   23427.4  -30694.4  33725.70  144539.0   30556.9   \n",
       "1      8   62607.2  -55928.2  -27403.4  -6382.09  143720.0  -90881.3   \n",
       "2     41  175318.0  110076.0 -128700.0  45341.20  209660.0 -110486.0   \n",
       "3     44  125126.0   32677.8  102847.0  63335.10   75826.2  -60117.0   \n",
       "4     52   81170.1   45960.6  -38977.6 -54377.80  209614.0  -41145.2   \n",
       "\n",
       "      B1_Py      B1_Pz      B2_E  ...    J1_Py     J1_Pz      J2_E    J2_Px  \\\n",
       "0 -124646.0   66221.10   41345.7  ...  83141.7  100690.0  153528.0  24049.1   \n",
       "1   80127.7  -76677.30   63423.3  ...  44228.2  104774.0   49101.6  37159.0   \n",
       "2  118174.0 -132929.00   54280.7  ...  35725.8  -14619.2   82184.9  32212.0   \n",
       "3  -44410.6    1588.44   78404.3  ...  62414.2  -24681.6   85371.5 -40072.9   \n",
       "4   31890.1 -202909.00  126913.0  ...  62056.2 -110476.0  168499.0  14308.5   \n",
       "\n",
       "     J2_Py     J2_Pz      J3_E     J3_Px    J3_Py       J3_Pz  \n",
       "0  36265.6 -147189.0   62572.0 -33733.80 -15020.8  -50334.600  \n",
       "1 -12960.1  -28853.1   31804.9 -28743.60  11803.6    -203.991  \n",
       "2  13286.3  -73960.8   68410.5   8936.84  32453.5   59377.200  \n",
       "3 -22510.0   71706.7  112722.0  19212.20 -19288.7 -109245.000  \n",
       "4  42066.1 -162219.0   55170.7   9476.58 -26691.3   46793.300  \n",
       "\n",
       "[5 rows x 25 columns]"
      ]
     },
     "execution_count": 1,
     "metadata": {
     },
     "output_type": "execute_result"
    }
   ],
   "source": [
    "import pandas as pd\n",
    "import numpy as np\n",
    "from matplotlib import pyplot as plt\n",
    "\n",
    "df = pd.read_csv(\"datafile.csv\")\n",
    "df.head()"
   ]
  },
  {
   "cell_type": "code",
   "execution_count": 2,
   "metadata": {
    "collapsed": false
   },
   "outputs": [
    {
     "name": "stdout",
     "output_type": "stream",
     "text": [
      "Index(['Event', ' mu_E', ' mu_Px', ' mu_Py', ' mu_Pz', ' B1_E', ' B1_Px',\n",
      "       ' B1_Py', ' B1_Pz', ' B2_E', ' B2_Px', ' B2_Py', ' B2_Pz', ' J1_E',\n",
      "       ' J1_Px', ' J1_Py', ' J1_Pz', ' J2_E', ' J2_Px', ' J2_Py', ' J2_Pz',\n",
      "       ' J3_E', ' J3_Px', ' J3_Py', ' J3_Pz'],\n",
      "      dtype='object')\n"
     ]
    }
   ],
   "source": [
    "print(df.columns)"
   ]
  },
  {
   "cell_type": "code",
   "execution_count": 3,
   "metadata": {
    "collapsed": false
   },
   "outputs": [
   ],
   "source": [
    "# functions that calculates the mass of 2 not B-tagged jets\n",
    "\n",
    "def M12(row):\n",
    "    E = np.square(row[' J1_E'] + row[' J2_E'])\n",
    "    x = np.square(row[' J1_Px'] + row[' J2_Px'])\n",
    "    y = np.square(row[' J1_Py'] + row[' J2_Py'])\n",
    "    z = np.square(row[' J1_Pz'] + row[' J2_Pz'])\n",
    "    return np.sqrt(E - x - y - z)/ 1000\n",
    "\n",
    "def M13(row):\n",
    "    E = np.square(row[' J1_E'] + row[' J3_E'])\n",
    "    x = np.square(row[' J1_Px'] + row[' J3_Px'])\n",
    "    y = np.square(row[' J1_Py'] + row[' J3_Py'])\n",
    "    z = np.square(row[' J1_Pz'] + row[' J3_Pz'])\n",
    "    return np.sqrt(E - x - y - z)/1000\n",
    "\n",
    "def M23(row):\n",
    "    E = np.square(row[' J2_E'] + row[' J3_E'])\n",
    "    x = np.square(row[' J2_Px'] + row[' J3_Px'])\n",
    "    y = np.square(row[' J2_Py'] + row[' J3_Py'])\n",
    "    z = np.square(row[' J2_Pz'] + row[' J3_Pz'])\n",
    "    return np.sqrt(E - x - y - z)/1000"
   ]
  },
  {
   "cell_type": "code",
   "execution_count": 4,
   "metadata": {
    "collapsed": false
   },
   "outputs": [
    {
     "data": {
      "text/html": [
       "<div>\n",
       "<style scoped>\n",
       "    .dataframe tbody tr th:only-of-type {\n",
       "        vertical-align: middle;\n",
       "    }\n",
       "\n",
       "    .dataframe tbody tr th {\n",
       "        vertical-align: top;\n",
       "    }\n",
       "\n",
       "    .dataframe thead th {\n",
       "        text-align: right;\n",
       "    }\n",
       "</style>\n",
       "<table border=\"1\" class=\"dataframe\">\n",
       "  <thead>\n",
       "    <tr style=\"text-align: right;\">\n",
       "      <th></th>\n",
       "      <th>Event</th>\n",
       "      <th>mu_E</th>\n",
       "      <th>mu_Px</th>\n",
       "      <th>mu_Py</th>\n",
       "      <th>mu_Pz</th>\n",
       "      <th>B1_E</th>\n",
       "      <th>B1_Px</th>\n",
       "      <th>B1_Py</th>\n",
       "      <th>B1_Pz</th>\n",
       "      <th>B2_E</th>\n",
       "      <th>...</th>\n",
       "      <th>J2_Px</th>\n",
       "      <th>J2_Py</th>\n",
       "      <th>J2_Pz</th>\n",
       "      <th>J3_E</th>\n",
       "      <th>J3_Px</th>\n",
       "      <th>J3_Py</th>\n",
       "      <th>J3_Pz</th>\n",
       "      <th>M12</th>\n",
       "      <th>M13</th>\n",
       "      <th>M23</th>\n",
       "    </tr>\n",
       "  </thead>\n",
       "  <tbody>\n",
       "    <tr>\n",
       "      <th>0</th>\n",
       "      <td>0</td>\n",
       "      <td>51268.2</td>\n",
       "      <td>23427.4</td>\n",
       "      <td>-30694.4</td>\n",
       "      <td>33725.70</td>\n",
       "      <td>144539.0</td>\n",
       "      <td>30556.9</td>\n",
       "      <td>-124646.0</td>\n",
       "      <td>66221.10</td>\n",
       "      <td>41345.7</td>\n",
       "      <td>...</td>\n",
       "      <td>24049.1</td>\n",
       "      <td>36265.6</td>\n",
       "      <td>-147189.0</td>\n",
       "      <td>62572.0</td>\n",
       "      <td>-33733.80</td>\n",
       "      <td>-15020.8</td>\n",
       "      <td>-50334.600</td>\n",
       "      <td>252.916238</td>\n",
       "      <td>169.926817</td>\n",
       "      <td>84.489659</td>\n",
       "    </tr>\n",
       "    <tr>\n",
       "      <th>1</th>\n",
       "      <td>8</td>\n",
       "      <td>62607.2</td>\n",
       "      <td>-55928.2</td>\n",
       "      <td>-27403.4</td>\n",
       "      <td>-6382.09</td>\n",
       "      <td>143720.0</td>\n",
       "      <td>-90881.3</td>\n",
       "      <td>80127.7</td>\n",
       "      <td>-76677.30</td>\n",
       "      <td>63423.3</td>\n",
       "      <td>...</td>\n",
       "      <td>37159.0</td>\n",
       "      <td>-12960.1</td>\n",
       "      <td>-28853.1</td>\n",
       "      <td>31804.9</td>\n",
       "      <td>-28743.60</td>\n",
       "      <td>11803.6</td>\n",
       "      <td>-203.991</td>\n",
       "      <td>123.034830</td>\n",
       "      <td>147.083750</td>\n",
       "      <td>75.029266</td>\n",
       "    </tr>\n",
       "    <tr>\n",
       "      <th>2</th>\n",
       "      <td>41</td>\n",
       "      <td>175318.0</td>\n",
       "      <td>110076.0</td>\n",
       "      <td>-128700.0</td>\n",
       "      <td>45341.20</td>\n",
       "      <td>209660.0</td>\n",
       "      <td>-110486.0</td>\n",
       "      <td>118174.0</td>\n",
       "      <td>-132929.00</td>\n",
       "      <td>54280.7</td>\n",
       "      <td>...</td>\n",
       "      <td>32212.0</td>\n",
       "      <td>13286.3</td>\n",
       "      <td>-73960.8</td>\n",
       "      <td>68410.5</td>\n",
       "      <td>8936.84</td>\n",
       "      <td>32453.5</td>\n",
       "      <td>59377.200</td>\n",
       "      <td>67.561152</td>\n",
       "      <td>72.861829</td>\n",
       "      <td>136.678223</td>\n",
       "    </tr>\n",
       "    <tr>\n",
       "      <th>3</th>\n",
       "      <td>44</td>\n",
       "      <td>125126.0</td>\n",
       "      <td>32677.8</td>\n",
       "      <td>102847.0</td>\n",
       "      <td>63335.10</td>\n",
       "      <td>75826.2</td>\n",
       "      <td>-60117.0</td>\n",
       "      <td>-44410.6</td>\n",
       "      <td>1588.44</td>\n",
       "      <td>78404.3</td>\n",
       "      <td>...</td>\n",
       "      <td>-40072.9</td>\n",
       "      <td>-22510.0</td>\n",
       "      <td>71706.7</td>\n",
       "      <td>112722.0</td>\n",
       "      <td>19212.20</td>\n",
       "      <td>-19288.7</td>\n",
       "      <td>-109245.000</td>\n",
       "      <td>131.115306</td>\n",
       "      <td>114.612161</td>\n",
       "      <td>188.811045</td>\n",
       "    </tr>\n",
       "    <tr>\n",
       "      <th>4</th>\n",
       "      <td>52</td>\n",
       "      <td>81170.1</td>\n",
       "      <td>45960.6</td>\n",
       "      <td>-38977.6</td>\n",
       "      <td>-54377.80</td>\n",
       "      <td>209614.0</td>\n",
       "      <td>-41145.2</td>\n",
       "      <td>31890.1</td>\n",
       "      <td>-202909.00</td>\n",
       "      <td>126913.0</td>\n",
       "      <td>...</td>\n",
       "      <td>14308.5</td>\n",
       "      <td>42066.1</td>\n",
       "      <td>-162219.0</td>\n",
       "      <td>55170.7</td>\n",
       "      <td>9476.58</td>\n",
       "      <td>-26691.3</td>\n",
       "      <td>46793.300</td>\n",
       "      <td>42.664755</td>\n",
       "      <td>165.862763</td>\n",
       "      <td>189.480680</td>\n",
       "    </tr>\n",
       "  </tbody>\n",
       "</table>\n",
       "<p>5 rows × 28 columns</p>\n",
       "</div>"
      ],
      "text/plain": [
       "   Event      mu_E     mu_Px     mu_Py     mu_Pz      B1_E     B1_Px  \\\n",
       "0      0   51268.2   23427.4  -30694.4  33725.70  144539.0   30556.9   \n",
       "1      8   62607.2  -55928.2  -27403.4  -6382.09  143720.0  -90881.3   \n",
       "2     41  175318.0  110076.0 -128700.0  45341.20  209660.0 -110486.0   \n",
       "3     44  125126.0   32677.8  102847.0  63335.10   75826.2  -60117.0   \n",
       "4     52   81170.1   45960.6  -38977.6 -54377.80  209614.0  -41145.2   \n",
       "\n",
       "      B1_Py      B1_Pz      B2_E  ...    J2_Px    J2_Py     J2_Pz      J3_E  \\\n",
       "0 -124646.0   66221.10   41345.7  ...  24049.1  36265.6 -147189.0   62572.0   \n",
       "1   80127.7  -76677.30   63423.3  ...  37159.0 -12960.1  -28853.1   31804.9   \n",
       "2  118174.0 -132929.00   54280.7  ...  32212.0  13286.3  -73960.8   68410.5   \n",
       "3  -44410.6    1588.44   78404.3  ... -40072.9 -22510.0   71706.7  112722.0   \n",
       "4   31890.1 -202909.00  126913.0  ...  14308.5  42066.1 -162219.0   55170.7   \n",
       "\n",
       "      J3_Px    J3_Py       J3_Pz         M12         M13         M23  \n",
       "0 -33733.80 -15020.8  -50334.600  252.916238  169.926817   84.489659  \n",
       "1 -28743.60  11803.6    -203.991  123.034830  147.083750   75.029266  \n",
       "2   8936.84  32453.5   59377.200   67.561152   72.861829  136.678223  \n",
       "3  19212.20 -19288.7 -109245.000  131.115306  114.612161  188.811045  \n",
       "4   9476.58 -26691.3   46793.300   42.664755  165.862763  189.480680  \n",
       "\n",
       "[5 rows x 28 columns]"
      ]
     },
     "execution_count": 4,
     "metadata": {
     },
     "output_type": "execute_result"
    }
   ],
   "source": [
    "df['M12'] = df.apply(M12, axis=1)\n",
    "df['M13'] = df.apply(M13, axis=1)\n",
    "df['M23'] = df.apply(M23, axis=1)\n",
    "\n",
    "df.head()"
   ]
  },
  {
   "cell_type": "code",
   "execution_count": 5,
   "metadata": {
    "collapsed": false
   },
   "outputs": [
    {
     "data": {
      "text/plain": [
       "(20.0, 150.0)"
      ]
     },
     "execution_count": 5,
     "metadata": {
     },
     "output_type": "execute_result"
    },
    {
     "data": {
      "image/png": "[encoded data removed]",
      "text/plain": [
       "<Figure size 864x504 with 1 Axes>"
      ]
     },
     "execution_count": 5,
     "metadata": {
      "image/png": {
       "height": 440,
       "width": 717
      },
      "needs_background": "light"
     },
     "output_type": "execute_result"
    }
   ],
   "source": [
    "plt.hist(df[\"M12\"], bins=200, label=\"mass of W (GeV)\", color='red') \n",
    "plt.xlabel(\"mass of W (GeV)\")\n",
    "plt.ylabel(\"Number of events\")\n",
    "plt.title(\"mass of W boson using jet 1 and 2\")\n",
    "plt.xlim(20, 150)"
   ]
  },
  {
   "cell_type": "code",
   "execution_count": 6,
   "metadata": {
    "collapsed": false
   },
   "outputs": [
    {
     "data": {
      "text/plain": [
       "(20.0, 150.0)"
      ]
     },
     "execution_count": 6,
     "metadata": {
     },
     "output_type": "execute_result"
    },
    {
     "data": {
      "image/png": "[encoded data removed]",
      "text/plain": [
       "<Figure size 864x504 with 1 Axes>"
      ]
     },
     "execution_count": 6,
     "metadata": {
      "image/png": {
       "height": 440,
       "width": 726
      },
      "needs_background": "light"
     },
     "output_type": "execute_result"
    }
   ],
   "source": [
    "plt.hist(df[\"M13\"], bins=200, label=\"mass of W (GeV)\", color='red') \n",
    "plt.xlabel(\"mass of W (GeV)\")\n",
    "plt.ylabel(\"Number of events\")\n",
    "plt.title(\"mass of W boson using jet 1 and 3\")\n",
    "plt.xlim(20, 150)"
   ]
  },
  {
   "cell_type": "code",
   "execution_count": 7,
   "metadata": {
    "collapsed": false
   },
   "outputs": [
    {
     "data": {
      "text/plain": [
       "(20.0, 150.0)"
      ]
     },
     "execution_count": 7,
     "metadata": {
     },
     "output_type": "execute_result"
    },
    {
     "data": {
      "image/png": "[encoded data removed]",
      "text/plain": [
       "<Figure size 864x504 with 1 Axes>"
      ]
     },
     "execution_count": 7,
     "metadata": {
      "image/png": {
       "height": 440,
       "width": 717
      },
      "needs_background": "light"
     },
     "output_type": "execute_result"
    }
   ],
   "source": [
    "plt.hist(df[\"M23\"], bins=200, label=\"mass of W (GeV)\", color='red') \n",
    "plt.xlabel(\"mass of W (GeV)\")\n",
    "plt.ylabel(\"Number of events\")\n",
    "plt.title(\"mass of W boson using jet 2 and 3\")\n",
    "plt.xlim(20, 150)"
   ]
  },
  {
   "cell_type": "code",
   "execution_count": 8,
   "metadata": {
    "collapsed": false
   },
   "outputs": [
    {
     "name": "stdout",
     "output_type": "stream",
     "text": [
      "Mean of W boson with J1J2 =  180.15 GeV\n",
      "Mean of W boson with J1J3  144.35 GeV\n",
      "Mean of W boson with J2J3  111.99 GeV\n"
     ]
    }
   ],
   "source": [
    "print(\"Mean of W boson with J1J2 = \", round(np.mean(df[\"M12\"]), 2), \"GeV\")\n",
    "print(\"Mean of W boson with J1J3 \", round(np.mean(df[\"M13\"]), 2), \"GeV\")\n",
    "print(\"Mean of W boson with J2J3 \", round(np.mean(df[\"M23\"]), 2), \"GeV\")"
   ]
  },
  {
   "cell_type": "code",
   "execution_count": 9,
   "metadata": {
    "collapsed": false
   },
   "outputs": [
   ],
   "source": [
    "# similar functions as before but now with 3 variables:\n",
    "\n",
    "def T_B1(row):\n",
    "    E_sum = np.square(np.sum([row[' B1_E'], row[' J2_E'], row[' J3_E']]))\n",
    "    px_sum = np.square(np.sum([row[' B1_Px'], row[' J2_Px'], row[' J3_Px']]))\n",
    "    py_sum = np.square(np.sum([row[' B1_Py'], row[' J2_Py'], row[' J3_Py']]))\n",
    "    pz_sum = np.square(np.sum([row[' B1_Pz'], row[' J2_Pz'], row[' J3_Pz']]))\n",
    "\n",
    "    return np.sqrt(E_sum - px_sum - py_sum - pz_sum) / 1000\n",
    "\n",
    "\n",
    "\n",
    "def T_B2(row):\n",
    "    E_sum = np.square(np.sum([row[' B2_E'], row[' J2_E'], row[' J3_E']]))\n",
    "    px_sum = np.square(np.sum([row[' B2_Px'], row[' J2_Px'], row[' J3_Px']]))\n",
    "    py_sum = np.square(np.sum([row[' B2_Py'], row[' J2_Py'], row[' J3_Py']]))\n",
    "    pz_sum = np.square(np.sum([row[' B2_Pz'], row[' J2_Pz'], row[' J3_Pz']]))\n",
    "\n",
    "    return np.sqrt(E_sum - px_sum - py_sum - pz_sum) / 1000\n"
   ]
  },
  {
   "cell_type": "code",
   "execution_count": 10,
   "metadata": {
    "collapsed": false
   },
   "outputs": [
    {
     "data": {
      "text/html": [
       "<div>\n",
       "<style scoped>\n",
       "    .dataframe tbody tr th:only-of-type {\n",
       "        vertical-align: middle;\n",
       "    }\n",
       "\n",
       "    .dataframe tbody tr th {\n",
       "        vertical-align: top;\n",
       "    }\n",
       "\n",
       "    .dataframe thead th {\n",
       "        text-align: right;\n",
       "    }\n",
       "</style>\n",
       "<table border=\"1\" class=\"dataframe\">\n",
       "  <thead>\n",
       "    <tr style=\"text-align: right;\">\n",
       "      <th></th>\n",
       "      <th>Event</th>\n",
       "      <th>mu_E</th>\n",
       "      <th>mu_Px</th>\n",
       "      <th>mu_Py</th>\n",
       "      <th>mu_Pz</th>\n",
       "      <th>B1_E</th>\n",
       "      <th>B1_Px</th>\n",
       "      <th>B1_Py</th>\n",
       "      <th>B1_Pz</th>\n",
       "      <th>B2_E</th>\n",
       "      <th>...</th>\n",
       "      <th>J2_Pz</th>\n",
       "      <th>J3_E</th>\n",
       "      <th>J3_Px</th>\n",
       "      <th>J3_Py</th>\n",
       "      <th>J3_Pz</th>\n",
       "      <th>M12</th>\n",
       "      <th>M13</th>\n",
       "      <th>M23</th>\n",
       "      <th>T_B1</th>\n",
       "      <th>T_B2</th>\n",
       "    </tr>\n",
       "  </thead>\n",
       "  <tbody>\n",
       "    <tr>\n",
       "      <th>0</th>\n",
       "      <td>0</td>\n",
       "      <td>51268.2</td>\n",
       "      <td>23427.4</td>\n",
       "      <td>-30694.4</td>\n",
       "      <td>33725.70</td>\n",
       "      <td>144539.0</td>\n",
       "      <td>30556.9</td>\n",
       "      <td>-124646.0</td>\n",
       "      <td>66221.10</td>\n",
       "      <td>41345.7</td>\n",
       "      <td>...</td>\n",
       "      <td>-147189.0</td>\n",
       "      <td>62572.0</td>\n",
       "      <td>-33733.80</td>\n",
       "      <td>-15020.8</td>\n",
       "      <td>-50334.600</td>\n",
       "      <td>252.916238</td>\n",
       "      <td>169.926817</td>\n",
       "      <td>84.489659</td>\n",
       "      <td>318.892905</td>\n",
       "      <td>162.638597</td>\n",
       "    </tr>\n",
       "    <tr>\n",
       "      <th>1</th>\n",
       "      <td>8</td>\n",
       "      <td>62607.2</td>\n",
       "      <td>-55928.2</td>\n",
       "      <td>-27403.4</td>\n",
       "      <td>-6382.09</td>\n",
       "      <td>143720.0</td>\n",
       "      <td>-90881.3</td>\n",
       "      <td>80127.7</td>\n",
       "      <td>-76677.30</td>\n",
       "      <td>63423.3</td>\n",
       "      <td>...</td>\n",
       "      <td>-28853.1</td>\n",
       "      <td>31804.9</td>\n",
       "      <td>-28743.60</td>\n",
       "      <td>11803.6</td>\n",
       "      <td>-203.991</td>\n",
       "      <td>123.034830</td>\n",
       "      <td>147.083750</td>\n",
       "      <td>75.029266</td>\n",
       "      <td>161.988358</td>\n",
       "      <td>120.161758</td>\n",
       "    </tr>\n",
       "    <tr>\n",
       "      <th>2</th>\n",
       "      <td>41</td>\n",
       "      <td>175318.0</td>\n",
       "      <td>110076.0</td>\n",
       "      <td>-128700.0</td>\n",
       "      <td>45341.20</td>\n",
       "      <td>209660.0</td>\n",
       "      <td>-110486.0</td>\n",
       "      <td>118174.0</td>\n",
       "      <td>-132929.00</td>\n",
       "      <td>54280.7</td>\n",
       "      <td>...</td>\n",
       "      <td>-73960.8</td>\n",
       "      <td>68410.5</td>\n",
       "      <td>8936.84</td>\n",
       "      <td>32453.5</td>\n",
       "      <td>59377.200</td>\n",
       "      <td>67.561152</td>\n",
       "      <td>72.861829</td>\n",
       "      <td>136.678223</td>\n",
       "      <td>276.312523</td>\n",
       "      <td>200.196288</td>\n",
       "    </tr>\n",
       "    <tr>\n",
       "      <th>3</th>\n",
       "      <td>44</td>\n",
       "      <td>125126.0</td>\n",
       "      <td>32677.8</td>\n",
       "      <td>102847.0</td>\n",
       "      <td>63335.10</td>\n",
       "      <td>75826.2</td>\n",
       "      <td>-60117.0</td>\n",
       "      <td>-44410.6</td>\n",
       "      <td>1588.44</td>\n",
       "      <td>78404.3</td>\n",
       "      <td>...</td>\n",
       "      <td>71706.7</td>\n",
       "      <td>112722.0</td>\n",
       "      <td>19212.20</td>\n",
       "      <td>-19288.7</td>\n",
       "      <td>-109245.000</td>\n",
       "      <td>131.115306</td>\n",
       "      <td>114.612161</td>\n",
       "      <td>188.811045</td>\n",
       "      <td>244.438496</td>\n",
       "      <td>247.329008</td>\n",
       "    </tr>\n",
       "    <tr>\n",
       "      <th>4</th>\n",
       "      <td>52</td>\n",
       "      <td>81170.1</td>\n",
       "      <td>45960.6</td>\n",
       "      <td>-38977.6</td>\n",
       "      <td>-54377.80</td>\n",
       "      <td>209614.0</td>\n",
       "      <td>-41145.2</td>\n",
       "      <td>31890.1</td>\n",
       "      <td>-202909.00</td>\n",
       "      <td>126913.0</td>\n",
       "      <td>...</td>\n",
       "      <td>-162219.0</td>\n",
       "      <td>55170.7</td>\n",
       "      <td>9476.58</td>\n",
       "      <td>-26691.3</td>\n",
       "      <td>46793.300</td>\n",
       "      <td>42.664755</td>\n",
       "      <td>165.862763</td>\n",
       "      <td>189.480680</td>\n",
       "      <td>289.590122</td>\n",
       "      <td>254.274295</td>\n",
       "    </tr>\n",
       "  </tbody>\n",
       "</table>\n",
       "<p>5 rows × 30 columns</p>\n",
       "</div>"
      ],
      "text/plain": [
       "   Event      mu_E     mu_Px     mu_Py     mu_Pz      B1_E     B1_Px  \\\n",
       "0      0   51268.2   23427.4  -30694.4  33725.70  144539.0   30556.9   \n",
       "1      8   62607.2  -55928.2  -27403.4  -6382.09  143720.0  -90881.3   \n",
       "2     41  175318.0  110076.0 -128700.0  45341.20  209660.0 -110486.0   \n",
       "3     44  125126.0   32677.8  102847.0  63335.10   75826.2  -60117.0   \n",
       "4     52   81170.1   45960.6  -38977.6 -54377.80  209614.0  -41145.2   \n",
       "\n",
       "      B1_Py      B1_Pz      B2_E  ...     J2_Pz      J3_E     J3_Px    J3_Py  \\\n",
       "0 -124646.0   66221.10   41345.7  ... -147189.0   62572.0 -33733.80 -15020.8   \n",
       "1   80127.7  -76677.30   63423.3  ...  -28853.1   31804.9 -28743.60  11803.6   \n",
       "2  118174.0 -132929.00   54280.7  ...  -73960.8   68410.5   8936.84  32453.5   \n",
       "3  -44410.6    1588.44   78404.3  ...   71706.7  112722.0  19212.20 -19288.7   \n",
       "4   31890.1 -202909.00  126913.0  ... -162219.0   55170.7   9476.58 -26691.3   \n",
       "\n",
       "        J3_Pz         M12         M13         M23        T_B1        T_B2  \n",
       "0  -50334.600  252.916238  169.926817   84.489659  318.892905  162.638597  \n",
       "1    -203.991  123.034830  147.083750   75.029266  161.988358  120.161758  \n",
       "2   59377.200   67.561152   72.861829  136.678223  276.312523  200.196288  \n",
       "3 -109245.000  131.115306  114.612161  188.811045  244.438496  247.329008  \n",
       "4   46793.300   42.664755  165.862763  189.480680  289.590122  254.274295  \n",
       "\n",
       "[5 rows x 30 columns]"
      ]
     },
     "execution_count": 10,
     "metadata": {
     },
     "output_type": "execute_result"
    }
   ],
   "source": [
    "\n",
    "df['T_B1'] = df.apply(T_B1, axis=1)\n",
    "df['T_B2'] = df.apply(T_B2, axis=1)\n",
    "\n",
    "df.head()"
   ]
  },
  {
   "cell_type": "code",
   "execution_count": 11,
   "metadata": {
    "collapsed": false
   },
   "outputs": [
    {
     "data": {
      "text/plain": [
       "(100.0, 300.0)"
      ]
     },
     "execution_count": 11,
     "metadata": {
     },
     "output_type": "execute_result"
    },
    {
     "data": {
      "image/png": "[encoded data removed]",
      "text/plain": [
       "<Figure size 864x504 with 1 Axes>"
      ]
     },
     "execution_count": 11,
     "metadata": {
      "image/png": {
       "height": 440,
       "width": 736
      },
      "needs_background": "light"
     },
     "output_type": "execute_result"
    }
   ],
   "source": [
    "plt.hist(df[\"T_B1\"], bins=250, label=\"mass of top quark (GeV)\", color='red') \n",
    "plt.xlabel(\"mass of top quark (GeV)\")\n",
    "plt.ylabel(\"Number of events\")\n",
    "plt.title(\"mass of top quark (GeV) with B1 and J2J3\")\n",
    "plt.xlim(100, 300)"
   ]
  },
  {
   "cell_type": "markdown",
   "metadata": {
    "collapsed": false
   },
   "source": [
   ]
  },
  {
   "cell_type": "code",
   "execution_count": 12,
   "metadata": {
    "collapsed": false
   },
   "outputs": [
    {
     "data": {
      "text/plain": [
       "(100.0, 300.0)"
      ]
     },
     "execution_count": 12,
     "metadata": {
     },
     "output_type": "execute_result"
    },
    {
     "data": {
      "image/png": "[encoded data removed]",
      "text/plain": [
       "<Figure size 864x504 with 1 Axes>"
      ]
     },
     "execution_count": 12,
     "metadata": {
      "image/png": {
       "height": 440,
       "width": 736
      },
      "needs_background": "light"
     },
     "output_type": "execute_result"
    }
   ],
   "source": [
    "plt.hist(df[\"T_B2\"], bins=250, label=\"mass of top quark (GeV)\", color='red') \n",
    "plt.xlabel(\"mass of top quark (GeV)\")\n",
    "plt.ylabel(\"Number of events\")\n",
    "plt.title(\"mass of top quark (GeV) with B2 and J2J3\")\n",
    "plt.xlim(100, 300)"
   ]
  },
  {
   "cell_type": "code",
   "execution_count": 13,
   "metadata": {
    "collapsed": false
   },
   "outputs": [
    {
     "name": "stdout",
     "output_type": "stream",
     "text": [
      "Top quark mass average with B1 and J2J3 =  253.6 GeV\n",
      "Top quark mass average with B2 and J2J3 =  203.56 GeV\n"
     ]
    }
   ],
   "source": [
    "print(\"Top quark mass average with B1 and J2J3 = \", round(np.mean(df[\"T_B1\"]), 2), \"GeV\")\n",
    "print(\"Top quark mass average with B2 and J2J3 = \", round(np.mean(df[\"T_B2\"]), 2), \"GeV\")"
   ]
  },
  {
   "cell_type": "markdown",
   "metadata": {
    "collapsed": false
   },
   "source": [
    "**Associated uncertainties are given below**"
   ]
  },
  {
   "cell_type": "code",
   "execution_count": 14,
   "metadata": {
    "collapsed": false
   },
   "outputs": [
    {
     "data": {
      "text/plain": [
       "count     449.000000\n",
       "mean      253.601877\n",
       "std       133.435607\n",
       "min        49.392403\n",
       "25%       163.353644\n",
       "50%       215.053476\n",
       "75%       302.423113\n",
       "max      1302.151318\n",
       "Name: T_B1, dtype: float64"
      ]
     },
     "execution_count": 14,
     "metadata": {
     },
     "output_type": "execute_result"
    }
   ],
   "source": [
    "df[\"T_B1\"].describe()"
   ]
  },
  {
   "cell_type": "code",
   "execution_count": 15,
   "metadata": {
    "collapsed": false
   },
   "outputs": [
    {
     "data": {
      "text/plain": [
       "count     449.000000\n",
       "mean      203.557057\n",
       "std       107.467702\n",
       "min        45.234929\n",
       "25%       137.835508\n",
       "50%       175.362173\n",
       "75%       232.630098\n",
       "max      1049.070304\n",
       "Name: T_B2, dtype: float64"
      ]
     },
     "execution_count": 15,
     "metadata": {
     },
     "output_type": "execute_result"
    }
   ],
   "source": [
    "df[\"T_B2\"].describe()"
   ]
  }
 ],
 "metadata": {
  "kernelspec": {
   "display_name": "Python 3 (system-wide)",
   "language": "python",
   "metadata": {
    "cocalc": {
     "description": "Python 3 programming language",
     "priority": 100,
     "url": "https://www.python.org/"
    }
   },
   "name": "python3",
   "resource_dir": "/ext/jupyter/kernels/python3"
  },
  "language_info": {
   "codemirror_mode": {
    "name": "ipython",
    "version": 3
   },
   "file_extension": ".py",
   "mimetype": "text/x-python",
   "name": "python",
   "nbconvert_exporter": "python",
   "pygments_lexer": "ipython3",
   "version": "3.8.10"
  }
 },
 "nbformat": 4,
 "nbformat_minor": 4
}